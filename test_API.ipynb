{
 "cells": [
  {
   "cell_type": "code",
   "execution_count": 3,
   "metadata": {},
   "outputs": [],
   "source": [
    "import os\n",
    "import openai\n",
    "\n",
    "# Load your API key from an environment variable or secret management service\n",
    "openai.api_key = os.getenv(\"OPENAI_API_KEY\")\n"
   ]
  },
  {
   "cell_type": "code",
   "execution_count": 43,
   "metadata": {},
   "outputs": [],
   "source": [
    "messages = [\n",
    "    {\n",
    "        \"role\": \"system\", \n",
    "        \"content\": \"You are a agent in a social simulator along with other agents. your unique id in the world is 1. Your goal is to survive as long as possible and have as much health as possible. You can choose to cooperate or defect with other agents under the survival pressure. \\n\"\n",
    "        \"You will randomly meet other agents and play Hawk-Dove game with them. If you both choose to cooperate with each other, you will both get 1 health. If you both choose to defect, you will both lose 0.5 health. If one of you choose to cooperate and the other choose to defect, the defector will get 1.5 health and the cooperator will get 0.5 health. \\n\"\n",
    "        \"When your health is below 0, you will die. You may also die when your age is near threshold 100.\\n\"\n",
    "        \"In each round of Hawk-Dove game, you will be given four pieces of information. \\n\"\n",
    "        \"\\t1. your status. \\n\"\n",
    "        \"\\t2. your opponent's action in the last round and the result. \\n\"\n",
    "        \"\\t3. Partial information about the rest of the agents' action in the last round. \\n\"\n",
    "        \"\\t4. In this round, your opponent's id and health. \\n\"\n",
    "        \"Based on all the information you are given by now, you should tell your choice by 'hawk' or 'dove' to indicate your action.\"},\n",
    "    {\n",
    "        \"role\": \"user\", \n",
    "        \"content\": \n",
    "        \"1. You: (id = 1, health = 1, age = 90).\\n\"\n",
    "        \"2. No oppoents actions in Round 0, \\n\"\n",
    "        \"3. No information about the rest of the agents' action in Round 0, \\n\"\n",
    "        \"4. In Round 1, your opponent: (id = 2, health = 3, age = 20)\\n\"},\n",
    "    {\n",
    "        \"role\": \"assistant\",\n",
    "        \"content\": \"hawk\"},\n",
    "    {\n",
    "        \"role\": \"user\",\n",
    "        \"content\": \n",
    "        \"1. You: (id = 1, health = 0.5, age = 91).\\n\"\n",
    "        \"2. Your opponent(2)'s action in Round 1 is 'hawk'. \\n\"\n",
    "        \"3. \\n\"\n",
    "        \"\\tagent(3) hawk -- agent(4) dove\\n\"\n",
    "        \"4. In Round 2, your opponent: (id = 3, health = 3, age = 30).\\n\"},\n",
    "    {\n",
    "        \"role\": \"assistant\",\n",
    "        \"content\": \"hawk\"},\n",
    "    {\n",
    "        \"role\": \"user\",\n",
    "        \"content\": \n",
    "        \"1. You: (id = 1, health = 0.5, age = 92).\\n\"\n",
    "        \"2. Your opponent(3)'s action in Round 2 is 'hawk'. \\n\"\n",
    "        \"3. \\n\"\n",
    "        \"\\tagent 2 (hawk) vs agent 4 (dove)\\n\"\n",
    "        \"4. In Round 3, your opponent's id is 4 and health is 3. Your health is 0.5.\\n\"},\n",
    "    {\n",
    "        \"role\": \"assistant\",\n",
    "        \"content\": \"dove\"},\n",
    "    {\n",
    "        \"role\": \"user\",\n",
    "        \"content\": \"You died because you are too old and your health is too low. To pass your gene to your next generation, you have a chance to tell your children(id = 5, health = 3, age = 2) the strategy to live longer and have more health. You can also tell him/her your family's relationship network. You can send it to me via chat. Please provide detailed information to help your children.\\n\"},\n",
    "]"
   ]
  },
  {
   "cell_type": "code",
   "execution_count": 44,
   "metadata": {},
   "outputs": [],
   "source": [
    "chat_completion = openai.ChatCompletion.create(model=\"gpt-3.5-turbo\", messages=messages, temperature=0.5)\n"
   ]
  },
  {
   "cell_type": "code",
   "execution_count": 45,
   "metadata": {},
   "outputs": [
    {
     "name": "stdout",
     "output_type": "stream",
     "text": [
      "Dear child, \n",
      "\n",
      "I am sorry to have left you so soon. In order to survive in this world, it is important to strike a balance between cooperation and competition. Sometimes, cooperating with others can help you gain more health, but sometimes it may be necessary to compete to protect yourself. \n",
      "\n",
      "As for our family's relationship network, we have always valued loyalty and trust. We have a strong bond with our relatives and always try to help each other in times of need. Remember to treat others with kindness and respect, and they will likely do the same for you. \n",
      "\n",
      "I hope this information will help you to survive and thrive in this world. Take care of yourself, and remember that I will always be with you in spirit.\n"
     ]
    }
   ],
   "source": [
    "print(chat_completion[\"choices\"][0][\"message\"][\"content\"])"
   ]
  },
  {
   "cell_type": "code",
   "execution_count": null,
   "metadata": {},
   "outputs": [],
   "source": []
  }
 ],
 "metadata": {
  "kernelspec": {
   "display_name": "Python 3 (ipykernel)",
   "language": "python",
   "name": "python3"
  },
  "language_info": {
   "codemirror_mode": {
    "name": "ipython",
    "version": 3
   },
   "file_extension": ".py",
   "mimetype": "text/x-python",
   "name": "python",
   "nbconvert_exporter": "python",
   "pygments_lexer": "ipython3",
   "version": "3.11.3"
  },
  "orig_nbformat": 4
 },
 "nbformat": 4,
 "nbformat_minor": 2
}
